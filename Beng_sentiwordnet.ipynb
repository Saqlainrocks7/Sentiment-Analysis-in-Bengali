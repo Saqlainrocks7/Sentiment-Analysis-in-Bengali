{
 "cells": [
  {
   "cell_type": "code",
   "execution_count": 1,
   "metadata": {},
   "outputs": [
    {
     "name": "stderr",
     "output_type": "stream",
     "text": [
      "C:\\Users\\SAQLAIN\\anaconda3\\lib\\site-packages\\sklearn\\utils\\deprecation.py:144: FutureWarning: The sklearn.metrics.classification module is  deprecated in version 0.22 and will be removed in version 0.24. The corresponding classes / functions should instead be imported from sklearn.metrics. Anything that cannot be imported from sklearn.metrics is now part of the private API.\n",
      "  warnings.warn(message, FutureWarning)\n"
     ]
    }
   ],
   "source": [
    "import pandas as pd\n",
    "import codecs\n",
    "from nltk.tokenize import word_tokenize\n",
    "from sklearn.metrics.classification import accuracy_score\n",
    "from sklearn.metrics import f1_score\n",
    "import re"
   ]
  },
  {
   "cell_type": "code",
   "execution_count": 2,
   "metadata": {},
   "outputs": [],
   "source": [
    "data = pd.read_excel(\"beng_snwn.xlsx\")"
   ]
  },
  {
   "cell_type": "code",
   "execution_count": 3,
   "metadata": {},
   "outputs": [],
   "source": [
    "fields = ['POS_TAG', 'ID', 'POS', 'NEG', 'LIST_OF_WORDS', 'bengali']"
   ]
  },
  {
   "cell_type": "code",
   "execution_count": 4,
   "metadata": {},
   "outputs": [],
   "source": [
    "words_dict = {}\n",
    "for i in data.index:\n",
    "    # print (data[fields[0]][i], data[fields[1]][i], data[fields[2]][i], data[fields[3]][i], data[fields[4]][i])\n",
    "\n",
    "    words = data[fields[5]][i]\n",
    "    for word in words:\n",
    "        words_dict[word] = (data[fields[0]][i], data[fields[2]][i], data[fields[3]][i])"
   ]
  },
  {
   "cell_type": "code",
   "execution_count": 5,
   "metadata": {},
   "outputs": [],
   "source": [
    "def sentiment(text):\n",
    "    words = word_tokenize(text)\n",
    "    votes = []\n",
    "    pos_polarity = 0\n",
    "    neg_polarity = 0\n",
    "    #adverbs, nouns, adjective, verb are only used\n",
    "    allowed_words = ['a','v','r','n']\n",
    "    for word in words:\n",
    "        if word in words_dict:\n",
    "            #if word in dictionary, it picks up the positive and negative score of the word\n",
    "            pos_tag, pos, neg = words_dict[word]\n",
    "            # print(word, pos_tag, pos, neg)\n",
    "            if pos_tag in allowed_words:\n",
    "                if pos > neg:\n",
    "                    pos_polarity += pos\n",
    "                    votes.append(1)\n",
    "                elif neg > pos:\n",
    "                    neg_polarity += neg\n",
    "                    votes.append(0)\n",
    "    #calculating the no. of positive and negative words in total in a review to give class labels\n",
    "    pos_votes = votes.count(1)\n",
    "    neg_votes = votes.count(0)\n",
    "    if pos_votes > neg_votes:\n",
    "        return 1\n",
    "    elif neg_votes > pos_votes:\n",
    "        return 0\n",
    "    else:\n",
    "        if pos_polarity < neg_polarity:\n",
    "            return 0\n",
    "        else:\n",
    "            return 1"
   ]
  },
  {
   "cell_type": "code",
   "execution_count": 6,
   "metadata": {},
   "outputs": [
    {
     "name": "stdout",
     "output_type": "stream",
     "text": [
      "3500\n",
      "7000\n",
      "Accuracy Score:   50.08571428571429\n",
      "F-measure:   0.6653897720743152\n"
     ]
    }
   ],
   "source": [
    "pred_y = []\n",
    "actual_y = []\n",
    "# to calculate accuracy\n",
    "pos_reviews = codecs.open(\"pos_beng.txt\", \"r\", encoding='utf-8', errors='ignore').read()\n",
    "for line in pos_reviews.split('\\n'):\n",
    "    data = line.strip('\\n')\n",
    "    if data:\n",
    "        pred_y.append(sentiment(data))\n",
    "        actual_y.append(1)\n",
    "#print(accuracy_score(actual_y, pred_y) * 100)\n",
    "print(len(actual_y))\n",
    "neg_reviews = codecs.open(\"neg_beng.txt\", \"r\", encoding='utf-8', errors='ignore').read()\n",
    "for line in neg_reviews.split('\\n'):\n",
    "    data=line.strip('\\n')\n",
    "    if data:\n",
    "        pred_y.append(sentiment(data))\n",
    "        actual_y.append(0)\n",
    "print(len(actual_y))\n",
    "print('Accuracy Score:  ',accuracy_score(actual_y, pred_y) * 100)\n",
    "print('F-measure:  ',f1_score(actual_y,pred_y))"
   ]
  }
 ],
 "metadata": {
  "kernelspec": {
   "display_name": "Python 3",
   "language": "python",
   "name": "python3"
  },
  "language_info": {
   "codemirror_mode": {
    "name": "ipython",
    "version": 3
   },
   "file_extension": ".py",
   "mimetype": "text/x-python",
   "name": "python",
   "nbconvert_exporter": "python",
   "pygments_lexer": "ipython3",
   "version": "3.7.6"
  }
 },
 "nbformat": 4,
 "nbformat_minor": 4
}
